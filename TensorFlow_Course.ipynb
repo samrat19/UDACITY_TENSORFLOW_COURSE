{
  "nbformat": 4,
  "nbformat_minor": 0,
  "metadata": {
    "colab": {
      "name": "TensorFlow Course.ipynb",
      "version": "0.3.2",
      "provenance": [],
      "collapsed_sections": [],
      "include_colab_link": true
    },
    "kernelspec": {
      "name": "python3",
      "display_name": "Python 3"
    }
  },
  "cells": [
    {
      "cell_type": "markdown",
      "metadata": {
        "id": "view-in-github",
        "colab_type": "text"
      },
      "source": [
        "<a href=\"https://colab.research.google.com/github/samrat19/UDACITY_TENSORFLOW_COURSE/blob/master/TensorFlow_Course.ipynb\" target=\"_parent\"><img src=\"https://colab.research.google.com/assets/colab-badge.svg\" alt=\"Open In Colab\"/></a>"
      ]
    },
    {
      "metadata": {
        "id": "HV3ttg_SRSl6",
        "colab_type": "text"
      },
      "cell_type": "markdown",
      "source": [
        "# UDACITY TENSORFLOW COURSE"
      ]
    },
    {
      "metadata": {
        "id": "dtqZnaQ3RbO3",
        "colab_type": "text"
      },
      "cell_type": "markdown",
      "source": [
        "## Import Dependencies\n",
        "\n",
        "we are importing tensorflow for showing errors and import numpy for showing our data in highly performant list"
      ]
    },
    {
      "metadata": {
        "id": "v2_9bFLGQ9fc",
        "colab_type": "code",
        "colab": {}
      },
      "cell_type": "code",
      "source": [
        "import tensorflow as tf\n",
        "\n",
        "tf.logging.set_verbosity(tf.logging.ERROR)\n",
        "\n",
        "import numpy as np"
      ],
      "execution_count": 0,
      "outputs": []
    },
    {
      "metadata": {
        "id": "EED925j_UeT_",
        "colab_type": "text"
      },
      "cell_type": "markdown",
      "source": [
        "## Set up trainning data"
      ]
    },
    {
      "metadata": {
        "id": "zIQh99fJUleG",
        "colab_type": "code",
        "outputId": "cb90a7bd-1a06-45ee-e7e3-a46dd2b60178",
        "colab": {
          "base_uri": "https://localhost:8080/",
          "height": 145
        }
      },
      "cell_type": "code",
      "source": [
        "celcius_q = np.array([-40, -10, 0, 8, 15, 22, 38], dtype=float)\n",
        "farenhite_a = np.array([-40, 14,32, 46, 59, 72, 100], dtype=float)\n",
        "\n",
        "for i,c in enumerate(celcius_q):\n",
        "  print(\"{} degrees celcius = {} degree farenhite\".format(c,farenhite_a[i]))"
      ],
      "execution_count": 29,
      "outputs": [
        {
          "output_type": "stream",
          "text": [
            "-40.0 degrees celcius = -40.0 degree farenhite\n",
            "-10.0 degrees celcius = 14.0 degree farenhite\n",
            "0.0 degrees celcius = 32.0 degree farenhite\n",
            "8.0 degrees celcius = 46.0 degree farenhite\n",
            "15.0 degrees celcius = 59.0 degree farenhite\n",
            "22.0 degrees celcius = 72.0 degree farenhite\n",
            "38.0 degrees celcius = 100.0 degree farenhite\n"
          ],
          "name": "stdout"
        }
      ]
    },
    {
      "metadata": {
        "id": "JsAp_Nhhw19p",
        "colab_type": "text"
      },
      "cell_type": "markdown",
      "source": [
        "## Some Machine learing terminology\n",
        "\n",
        "\n",
        "*   **Feature:**  - The input to our model\n",
        "*   **Lable** - Output of our Model which the model predicts\n",
        "*   **Example** -- pair of input and output used during traing\n",
        "\n",
        "## Create the Model\n",
        "\n",
        "**next create the Model, we will use simplest possible model we can, a Dense Network. Since the problem is straight forward, this network will require only a single layer, with a single neuron**\n",
        "\n",
        "## Build the layer\n",
        "\n",
        "**we will call the layer 'layer0' and create it by installing tf.keras.layers.Dense with the following configuration: **\n",
        "\n",
        "* **input_shape = [1] ==>  This specifies that the input to this layer is a single value. that is the shape is a one dimensional array with one  number. Since this is the first and only layer, that input shape is the input shape of the entire model. The single value is a floating point number, representing degree celcius** \n",
        "\n",
        "* **units=1 - This specifies the number of the neuron of the layer. The number of neurons defines how many internal variables the layer has to try to learn how to solve the problem (more later). Since this is the final layer, it is also the size of the model's output- a single float value representing degrees Farenhite (in a multilayer network , the size and shape of the later would need to match the input_shape of the next layer) ** \n",
        "\n",
        "\n"
      ]
    },
    {
      "metadata": {
        "id": "nkeZz1v7asGz",
        "colab_type": "code",
        "colab": {}
      },
      "cell_type": "code",
      "source": [
        "layer0 = tf.keras.layers.Dense(units = 1, input_shape=[1])"
      ],
      "execution_count": 0,
      "outputs": []
    },
    {
      "metadata": {
        "id": "S36oc69HepRp",
        "colab_type": "text"
      },
      "cell_type": "markdown",
      "source": [
        "# Assemble layers into the Model\n",
        "\n",
        "**Once layers are defined, they need to be assembled into a model. The sequential model definition takes a list of layers as argument, specifying the calculation order from the input to the output**\n",
        "\n",
        "**The model has just a single layer   layer0**"
      ]
    },
    {
      "metadata": {
        "id": "3YdIj36vbcuY",
        "colab_type": "code",
        "colab": {}
      },
      "cell_type": "code",
      "source": [
        "model = tf.keras.Sequential([layer0])"
      ],
      "execution_count": 0,
      "outputs": []
    },
    {
      "metadata": {
        "id": "2KbCv_WZb2qI",
        "colab_type": "code",
        "colab": {}
      },
      "cell_type": "code",
      "source": [
        "model.compile(loss = 'mean_squared_error', \n",
        "              optimizer = tf.keras.optimizers.Adam(0.1))"
      ],
      "execution_count": 0,
      "outputs": []
    },
    {
      "metadata": {
        "id": "Zfm84Pw9eGa-",
        "colab_type": "code",
        "colab": {}
      },
      "cell_type": "code",
      "source": [
        "history = model.fit(celcius_q,farenhite_a,epochs = 500, verbose = False)"
      ],
      "execution_count": 0,
      "outputs": []
    },
    {
      "metadata": {
        "id": "hlXRxXD6aBcp",
        "colab_type": "code",
        "colab": {
          "base_uri": "https://localhost:8080/",
          "height": 379
        },
        "outputId": "d0b08501-c01d-41bc-dded-7fa2f7de8320"
      },
      "cell_type": "code",
      "source": [
        "import matplotlib.pyplot as plt\n",
        "\n",
        "plt.xlabel('Epoch number')\n",
        "plt.ylabel(\"Loss magnitude\")\n",
        "\n",
        "plt.plot(history.history['loss'])"
      ],
      "execution_count": 36,
      "outputs": [
        {
          "output_type": "execute_result",
          "data": {
            "text/plain": [
              "[<matplotlib.lines.Line2D at 0x7ff404e02c50>]"
            ]
          },
          "metadata": {
            "tags": []
          },
          "execution_count": 36
        },
        {
          "output_type": "display_data",
          "data": {
            "image/png": "[encoded data removed]",
            "text/plain": [
              "<Figure size 576x396 with 1 Axes>"
            ]
          },
          "metadata": {
            "tags": []
          }
        }
      ]
    },
    {
      "metadata": {
        "id": "fGkDhQMFaqRR",
        "colab_type": "code",
        "colab": {
          "base_uri": "https://localhost:8080/",
          "height": 35
        },
        "outputId": "31527a79-7ed8-4eb8-a047-455c0e9ea593"
      },
      "cell_type": "code",
      "source": [
        "print(model.predict([100]))"
      ],
      "execution_count": 37,
      "outputs": [
        {
          "output_type": "stream",
          "text": [
            "[[211.33412]]\n"
          ],
          "name": "stdout"
        }
      ]
    },
    {
      "metadata": {
        "id": "SEyU_eJVar13",
        "colab_type": "code",
        "colab": {}
      },
      "cell_type": "code",
      "source": [
        ""
      ],
      "execution_count": 0,
      "outputs": []
    }
  ]
}