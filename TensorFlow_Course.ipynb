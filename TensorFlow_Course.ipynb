{
  "nbformat": 4,
  "nbformat_minor": 0,
  "metadata": {
    "colab": {
      "name": "TensorFlow Course.ipynb",
      "version": "0.3.2",
      "provenance": [],
      "collapsed_sections": [],
      "include_colab_link": true
    },
    "kernelspec": {
      "name": "python3",
      "display_name": "Python 3"
    }
  },
  "cells": [
    {
      "cell_type": "markdown",
      "metadata": {
        "id": "view-in-github",
        "colab_type": "text"
      },
      "source": [
        "<a href=\"https://colab.research.google.com/github/samrat19/UDACITY_TENSORFLOW_COURSE/blob/master/TensorFlow_Course.ipynb\" target=\"_parent\"><img src=\"https://colab.research.google.com/assets/colab-badge.svg\" alt=\"Open In Colab\"/></a>"
      ]
    },
    {
      "metadata": {
        "id": "HV3ttg_SRSl6",
        "colab_type": "text"
      },
      "cell_type": "markdown",
      "source": [
        "# UDACITY TENSORFLOW COURSE"
      ]
    },
    {
      "metadata": {
        "id": "dtqZnaQ3RbO3",
        "colab_type": "text"
      },
      "cell_type": "markdown",
      "source": [
        "## Import Dependencies\n",
        "\n",
        "we are importing tensorflow for showing errors and import numpy for showing our data in highly performant list"
      ]
    },
    {
      "metadata": {
        "id": "v2_9bFLGQ9fc",
        "colab_type": "code",
        "colab": {}
      },
      "cell_type": "code",
      "source": [
        "import tensorflow as tf\n",
        "\n",
        "tf.logging.set_verbosity(tf.logging.ERROR)\n",
        "\n",
        "import numpy as np"
      ],
      "execution_count": 0,
      "outputs": []
    },
    {
      "metadata": {
        "id": "EED925j_UeT_",
        "colab_type": "text"
      },
      "cell_type": "markdown",
      "source": [
        "## Set up trainning data"
      ]
    },
    {
      "metadata": {
        "id": "zIQh99fJUleG",
        "colab_type": "code",
        "outputId": "2403d5a1-a6d8-41d9-8d00-0c42b135ff75",
        "colab": {
          "base_uri": "https://localhost:8080/",
          "height": 145
        }
      },
      "cell_type": "code",
      "source": [
        "celcius_q = np.array([-40, -10, 0, 8, 15, 22, 38], dtype=float)\n",
        "farenhite_a = np.array([-40, -10, 0, 8, 15, 22, 38], dtype=float)\n",
        "\n",
        "for i,c in enumerate(celcius_q):\n",
        "  print(\"{} degrees celcius = {} degree farenhite\".format(c,farenhite_a[i]))"
      ],
      "execution_count": 6,
      "outputs": [
        {
          "output_type": "stream",
          "text": [
            "-40.0 degrees celcius = -40.0 degree farenhite\n",
            "-10.0 degrees celcius = -10.0 degree farenhite\n",
            "0.0 degrees celcius = 0.0 degree farenhite\n",
            "8.0 degrees celcius = 8.0 degree farenhite\n",
            "15.0 degrees celcius = 15.0 degree farenhite\n",
            "22.0 degrees celcius = 22.0 degree farenhite\n",
            "38.0 degrees celcius = 38.0 degree farenhite\n"
          ],
          "name": "stdout"
        }
      ]
    },
    {
      "metadata": {
        "id": "nkeZz1v7asGz",
        "colab_type": "code",
        "colab": {}
      },
      "cell_type": "code",
      "source": [
        "layer0 = tf.keras.layers.Dense(units = 1, input_shape=[1])"
      ],
      "execution_count": 0,
      "outputs": []
    },
    {
      "metadata": {
        "id": "3YdIj36vbcuY",
        "colab_type": "code",
        "colab": {}
      },
      "cell_type": "code",
      "source": [
        "model = tf.keras.Sequential([layer0])"
      ],
      "execution_count": 0,
      "outputs": []
    },
    {
      "metadata": {
        "id": "2KbCv_WZb2qI",
        "colab_type": "code",
        "colab": {}
      },
      "cell_type": "code",
      "source": [
        "model.compile(loss = 'mean_squared_error', \n",
        "              optimizer = tf.keras.optimizers.Adam(0.1))"
      ],
      "execution_count": 0,
      "outputs": []
    },
    {
      "metadata": {
        "id": "Zfm84Pw9eGa-",
        "colab_type": "code",
        "colab": {}
      },
      "cell_type": "code",
      "source": [
        "history = model.fit(celcius_q,farenhite_a,epochs = 500, verbose = False)"
      ],
      "execution_count": 0,
      "outputs": []
    },
    {
      "metadata": {
        "id": "hlXRxXD6aBcp",
        "colab_type": "code",
        "colab": {
          "base_uri": "https://localhost:8080/",
          "height": 379
        },
        "outputId": "351f172e-4e1f-4a5f-ce31-c8d414769832"
      },
      "cell_type": "code",
      "source": [
        "import matplotlib.pyplot as plt\n",
        "\n",
        "plt.xlabel('Epoch number')\n",
        "plt.ylabel(\"Loss magnitude\")\n",
        "\n",
        "plt.plot(history.history['loss'])"
      ],
      "execution_count": 26,
      "outputs": [
        {
          "output_type": "execute_result",
          "data": {
            "text/plain": [
              "[<matplotlib.lines.Line2D at 0x7ff4051699e8>]"
            ]
          },
          "metadata": {
            "tags": []
          },
          "execution_count": 26
        },
        {
          "output_type": "display_data",
          "data": {
            "image/png": "[encoded data removed]",
            "text/plain": [
              "<Figure size 576x396 with 1 Axes>"
            ]
          },
          "metadata": {
            "tags": []
          }
        }
      ]
    },
    {
      "metadata": {
        "id": "fGkDhQMFaqRR",
        "colab_type": "code",
        "colab": {}
      },
      "cell_type": "code",
      "source": [
        ""
      ],
      "execution_count": 0,
      "outputs": []
    },
    {
      "metadata": {
        "id": "SEyU_eJVar13",
        "colab_type": "code",
        "colab": {}
      },
      "cell_type": "code",
      "source": [
        ""
      ],
      "execution_count": 0,
      "outputs": []
    }
  ]
}