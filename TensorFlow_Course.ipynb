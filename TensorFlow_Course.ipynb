{
  "nbformat": 4,
  "nbformat_minor": 0,
  "metadata": {
    "colab": {
      "name": "TensorFlow Course.ipynb",
      "version": "0.3.2",
      "provenance": [],
      "collapsed_sections": [],
      "include_colab_link": true
    },
    "kernelspec": {
      "name": "python3",
      "display_name": "Python 3"
    }
  },
  "cells": [
    {
      "cell_type": "markdown",
      "metadata": {
        "id": "view-in-github",
        "colab_type": "text"
      },
      "source": [
        "<a href=\"https://colab.research.google.com/github/samrat19/UDACITY_TENSORFLOW_COURSE/blob/master/TensorFlow_Course.ipynb\" target=\"_parent\"><img src=\"https://colab.research.google.com/assets/colab-badge.svg\" alt=\"Open In Colab\"/></a>"
      ]
    },
    {
      "metadata": {
        "id": "HV3ttg_SRSl6",
        "colab_type": "text"
      },
      "cell_type": "markdown",
      "source": [
        "# UDACITY TENSORFLOW COURSE"
      ]
    },
    {
      "metadata": {
        "id": "dtqZnaQ3RbO3",
        "colab_type": "text"
      },
      "cell_type": "markdown",
      "source": [
        "## Import Dependencies\n",
        "\n",
        "we are importing tensorflow for showing errors and import numpy for showing our data in highly performant list"
      ]
    },
    {
      "metadata": {
        "id": "v2_9bFLGQ9fc",
        "colab_type": "code",
        "colab": {}
      },
      "cell_type": "code",
      "source": [
        "import tensorflow as tf\n",
        "\n",
        "tf.logging.set_verbosity(tf.logging.ERROR)\n",
        "\n",
        "import numpy as np"
      ],
      "execution_count": 0,
      "outputs": []
    },
    {
      "metadata": {
        "id": "EED925j_UeT_",
        "colab_type": "text"
      },
      "cell_type": "markdown",
      "source": [
        "## Set up trainning data"
      ]
    },
    {
      "metadata": {
        "id": "zIQh99fJUleG",
        "colab_type": "code",
        "outputId": "79b86f4f-c339-47f9-fd24-5d09fdf8014e",
        "colab": {
          "base_uri": "https://localhost:8080/",
          "height": 145
        }
      },
      "cell_type": "code",
      "source": [
        "celcius_q = np.array([-40, -10, 0, 8, 15, 22, 38], dtype=float)\n",
        "farenhite_a = np.array([-40, 14,32, 46, 59, 72, 100], dtype=float)\n",
        "\n",
        "for i,c in enumerate(celcius_q):\n",
        "  print(\"{} degrees celcius = {} degree farenhite\".format(c,farenhite_a[i]))"
      ],
      "execution_count": 11,
      "outputs": [
        {
          "output_type": "stream",
          "text": [
            "-40.0 degrees celcius = -40.0 degree farenhite\n",
            "-10.0 degrees celcius = 14.0 degree farenhite\n",
            "0.0 degrees celcius = 32.0 degree farenhite\n",
            "8.0 degrees celcius = 46.0 degree farenhite\n",
            "15.0 degrees celcius = 59.0 degree farenhite\n",
            "22.0 degrees celcius = 72.0 degree farenhite\n",
            "38.0 degrees celcius = 100.0 degree farenhite\n"
          ],
          "name": "stdout"
        }
      ]
    },
    {
      "metadata": {
        "id": "JsAp_Nhhw19p",
        "colab_type": "text"
      },
      "cell_type": "markdown",
      "source": [
        "## Some Machine learing terminology\n",
        "\n",
        "\n",
        "*   **Feature:**  - The input to our model\n",
        "*   **Lable** - Output of our Model which the model predicts\n",
        "*   **Example** -- pair of input and output used during traing\n",
        "\n",
        "## Create the Model\n",
        "\n",
        "**next create the Model, we will use simplest possible model we can, a Dense Network. Since the problem is straight forward, this network will require only a single layer, with a single neuron**\n",
        "\n",
        "## Build the layer\n",
        "\n",
        "**we will call the layer 'layer0' and create it by installing tf.keras.layers.Dense with the following configuration: **\n",
        "\n",
        "* **input_shape = [1] ==>  This specifies that the input to this layer is a single value. that is the shape is a one dimensional array with one  number. Since this is the first and only layer, that input shape is the input shape of the entire model. The single value is a floating point number, representing degree celcius** \n",
        "\n",
        "* **units=1 - This specifies the number of the neuron of the layer. The number of neurons defines how many internal variables the layer has to try to learn how to solve the problem (more later). Since this is the final layer, it is also the size of the model's output- a single float value representing degrees Farenhite (in a multilayer network , the size and shape of the later would need to match the input_shape of the next layer) ** \n",
        "\n",
        "\n"
      ]
    },
    {
      "metadata": {
        "id": "nkeZz1v7asGz",
        "colab_type": "code",
        "colab": {}
      },
      "cell_type": "code",
      "source": [
        "layer0 = tf.keras.layers.Dense(units = 1, input_shape=[1])"
      ],
      "execution_count": 0,
      "outputs": []
    },
    {
      "metadata": {
        "id": "S36oc69HepRp",
        "colab_type": "text"
      },
      "cell_type": "markdown",
      "source": [
        "# Assemble layers into the Model\n",
        "\n",
        "**Once layers are defined, they need to be assembled into a model. The sequential model definition takes a list of layers as argument, specifying the calculation order from the input to the output**\n",
        "\n",
        "**The model has just a single layer   layer0**"
      ]
    },
    {
      "metadata": {
        "id": "3YdIj36vbcuY",
        "colab_type": "code",
        "colab": {}
      },
      "cell_type": "code",
      "source": [
        "model = tf.keras.Sequential([layer0])"
      ],
      "execution_count": 0,
      "outputs": []
    },
    {
      "metadata": {
        "id": "ZcrVHHUygMZr",
        "colab_type": "text"
      },
      "cell_type": "markdown",
      "source": [
        "# Compile the Model with loss and optimizer function\n",
        "\n",
        "** before ttraining the model has to be compiled. when compiled for trainning, the model is give: **\n",
        "\n",
        "* ** Loss function --  A way of measureing how far off predictions are from the desired outcome.(The measured definition is called 'loss')**\n",
        "\n",
        "* **Optimizer Function -- A way of adjusting internal values in order to reduce the loss**\n",
        "\n",
        "\n",
        "** these are used during training (model.fit(),below) to first calculate the loss at each point and then improve it, in fact , the act of calculating the current loss of a model, then improving it is preciously what training is.**\n",
        "\n",
        "**During training, the optimizer function is used to calculate adjustments to the model's internal variables. The goal is to aadjust the  internal variables until the model (which is really a math function) mirrors the actual equation for converting celcius to farenhite**\n",
        "\n",
        "**Tensorflow uses numerical analysis to perform this tuning, and all this complexity is hidden from you, **\n",
        "\n",
        "**The loss function (mean squared error) and the optimizer (Adam) used here standard for simple models like this one.**\n",
        "\n",
        "**One part of the optimizer you may need to think about when building your own models is the learning rate ( 0.1 in the code above ) . This is step size taken when adjusting values in the model, iff the value os too small, it will take too many iteration to train the model. Too large and accuracy goes down. Finding a good value often involves some trial and error, but the range is ussualy within 0.001(default) and 0.1**\n"
      ]
    },
    {
      "metadata": {
        "id": "2KbCv_WZb2qI",
        "colab_type": "code",
        "colab": {}
      },
      "cell_type": "code",
      "source": [
        "model.compile(loss = 'mean_squared_error', \n",
        "              optimizer = tf.keras.optimizers.Adam(0.1))"
      ],
      "execution_count": 0,
      "outputs": []
    },
    {
      "metadata": {
        "id": "fJJ8SfAZpSmO",
        "colab_type": "text"
      },
      "cell_type": "markdown",
      "source": [
        "# Train the Model \n",
        "\n",
        "**Train the model by calling the fit method**\n",
        "\n",
        "**During training the model takes  in celcius value , perform a calculation using the current internal variables (called \"Weights\") and output values which are meant to be the Farenhite equivalent. Since the wights are initially set randomly, the outputs will not be close to  the correct value. The difference between the actual output and the desired output is calcullated using loss function, and the optimizer function directs how the weights should be adjusted.**\n",
        "\n",
        "**The cycle of calculate , compare,adjust is controlled by the fit method. The first argument is the inputs and the second argument is the desired outputs. The epochs arguments specifies how many times the cycle should be run, and the verbose argument controls how much the method produces**"
      ]
    },
    {
      "metadata": {
        "id": "Zfm84Pw9eGa-",
        "colab_type": "code",
        "colab": {
          "base_uri": "https://localhost:8080/",
          "height": 35
        },
        "outputId": "f2075733-69da-4c90-d185-5d9cd006ec23"
      },
      "cell_type": "code",
      "source": [
        "history = model.fit(celcius_q,farenhite_a,epochs = 500, verbose = False)\n",
        "print(\"Finis training the Model\")"
      ],
      "execution_count": 15,
      "outputs": [
        {
          "output_type": "stream",
          "text": [
            "Finis training the Model\n"
          ],
          "name": "stdout"
        }
      ]
    },
    {
      "metadata": {
        "id": "ZMlPE4ggvlib",
        "colab_type": "text"
      },
      "cell_type": "markdown",
      "source": [
        "# Display training staticstics\n",
        "\n",
        "**The fit method return a history Object. We can use the object to plot how the loss of our model goes down after a training epoch. A high loss means that the Farenhite degrees the model predicts is far from the corresponding values in the farenhite_a**\n",
        "\n",
        "**We will use matplotlib to visualise this. As you can see , our model improves very quickly at first, and then has a steady, slow improvement until it is very near \" perfect \" towards the end**"
      ]
    },
    {
      "metadata": {
        "id": "hlXRxXD6aBcp",
        "colab_type": "code",
        "colab": {
          "base_uri": "https://localhost:8080/",
          "height": 379
        },
        "outputId": "a2d7a715-325b-47c1-cabe-3b73cc97ac79"
      },
      "cell_type": "code",
      "source": [
        "import matplotlib.pyplot as plt\n",
        "\n",
        "plt.xlabel('Epoch number')\n",
        "plt.ylabel(\"Loss magnitude\")\n",
        "\n",
        "plt.plot(history.history['loss'])"
      ],
      "execution_count": 16,
      "outputs": [
        {
          "output_type": "execute_result",
          "data": {
            "text/plain": [
              "[<matplotlib.lines.Line2D at 0x7ff3047d49b0>]"
            ]
          },
          "metadata": {
            "tags": []
          },
          "execution_count": 16
        },
        {
          "output_type": "display_data",
          "data": {
            "image/png": "[encoded data removed]",
            "text/plain": [
              "<Figure size 576x396 with 1 Axes>"
            ]
          },
          "metadata": {
            "tags": []
          }
        }
      ]
    },
    {
      "metadata": {
        "id": "xIUVF-TrxiHb",
        "colab_type": "text"
      },
      "cell_type": "markdown",
      "source": [
        "# Use the model to Predict values\n",
        "\n",
        "**Now you have a model that has been trained to learn the relationship between celcius_q and farenhite_a. You can use the predict method to have it. Calculate the farenhite degrees for a previously unknown celcius degrees. "
      ]
    },
    {
      "metadata": {
        "id": "fGkDhQMFaqRR",
        "colab_type": "code",
        "colab": {
          "base_uri": "https://localhost:8080/",
          "height": 35
        },
        "outputId": "775ef2b2-d6bf-4d94-f864-03fb1ba298e5"
      },
      "cell_type": "code",
      "source": [
        "print(model.predict([100]))"
      ],
      "execution_count": 17,
      "outputs": [
        {
          "output_type": "stream",
          "text": [
            "[[211.32721]]\n"
          ],
          "name": "stdout"
        }
      ]
    },
    {
      "metadata": {
        "id": "Jm8lahXMzA-E",
        "colab_type": "text"
      },
      "cell_type": "markdown",
      "source": [
        "# Looking at the layer weights\n",
        "\n",
        "**finally let's print the internal variables of the Dense layer**"
      ]
    },
    {
      "metadata": {
        "id": "SEyU_eJVar13",
        "colab_type": "code",
        "colab": {
          "base_uri": "https://localhost:8080/",
          "height": 35
        },
        "outputId": "9b308637-dbf5-452a-d8f1-9e3acc4df70b"
      },
      "cell_type": "code",
      "source": [
        "print('these are the layer variables:{}'.format(layer0.get_weights()))"
      ],
      "execution_count": 23,
      "outputs": [
        {
          "output_type": "stream",
          "text": [
            "these are the layer variables:[array([[1.8220906]], dtype=float32), array([29.11815], dtype=float32)]\n"
          ],
          "name": "stdout"
        }
      ]
    }
  ]
}