{
  "nbformat": 4,
  "nbformat_minor": 0,
  "metadata": {
    "colab": {
      "name": "TensorFlow Course.ipynb",
      "version": "0.3.2",
      "provenance": [],
      "include_colab_link": true
    },
    "kernelspec": {
      "name": "python3",
      "display_name": "Python 3"
    }
  },
  "cells": [
    {
      "cell_type": "markdown",
      "metadata": {
        "id": "view-in-github",
        "colab_type": "text"
      },
      "source": [
        "<a href=\"https://colab.research.google.com/github/samrat19/UDACITY_TENSORFLOW_COURSE/blob/master/TensorFlow_Course.ipynb\" target=\"_parent\"><img src=\"https://colab.research.google.com/assets/colab-badge.svg\" alt=\"Open In Colab\"/></a>"
      ]
    },
    {
      "metadata": {
        "id": "HV3ttg_SRSl6",
        "colab_type": "text"
      },
      "cell_type": "markdown",
      "source": [
        "# UDACITY TENSORFLOW COURSE"
      ]
    },
    {
      "metadata": {
        "id": "dtqZnaQ3RbO3",
        "colab_type": "text"
      },
      "cell_type": "markdown",
      "source": [
        "## Import Dependencies\n",
        "\n",
        "we are importing tensorflow for showing errors and import numpy for showing our data in highly performant list"
      ]
    },
    {
      "metadata": {
        "id": "v2_9bFLGQ9fc",
        "colab_type": "code",
        "colab": {}
      },
      "cell_type": "code",
      "source": [
        "import tensorflow as tf\n",
        "\n",
        "import numpy as np"
      ],
      "execution_count": 0,
      "outputs": []
    },
    {
      "metadata": {
        "id": "EED925j_UeT_",
        "colab_type": "text"
      },
      "cell_type": "markdown",
      "source": [
        "## Set up trainning data"
      ]
    },
    {
      "metadata": {
        "id": "zIQh99fJUleG",
        "colab_type": "code",
        "colab": {}
      },
      "cell_type": "code",
      "source": [
        "celcius_q - np.array([-40, -10, 0, 8, 15, 22, 38], dtype=float)\n",
        "farenhite_a - np.array([-40, -10, 0, 8, 15, 22, 38], dtype=float)"
      ],
      "execution_count": 0,
      "outputs": []
    }
  ]
}